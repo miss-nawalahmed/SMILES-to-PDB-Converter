{
 "cells": [
  {
   "cell_type": "code",
   "execution_count": null,
   "id": "eccaa462-7eee-4c2d-8859-d173874d6dc2",
   "metadata": {},
   "outputs": [],
   "source": [
    "from rdkit import Chem\n",
    "from rdkit.Chem import rdmolfiles\n",
    "import csv\n",
    "import os\n",
    "\n",
    "# Function to write molecule to PDB file\n",
    "def write_to_pdb(mol, drug_name):\n",
    "    pdb_file = f\"{drug_name}.pdb\"\n",
    "    try:\n",
    "        pdb_writer = rdmolfiles.PDBWriter(pdb_file)\n",
    "        pdb_writer.write(mol)\n",
    "        pdb_writer.close()\n",
    "        print(f\"PDB file for {drug_name} written successfully at {pdb_file}.\")\n",
    "    except Exception as e:\n",
    "        print(f\"Error writing PDB file for {drug_name}: {e}\")\n",
    "\n",
    "# Define the input CSV file path\n",
    "csv_file = \"ligands.csv\"\n",
    "\n",
    "# Ensure the output directory exists\n",
    "output_dir = \"pdb_files\"\n",
    "if not os.path.exists(output_dir):\n",
    "    os.makedirs(output_dir)\n",
    "\n",
    "# Open the CSV file and process each ligand\n",
    "try:\n",
    "    with open(csv_file, 'r', encoding='utf-8-sig') as file:\n",
    "        reader = csv.DictReader(file)\n",
    "        \n",
    "        for row in reader:\n",
    "            smiles = row['Smiles']\n",
    "            drug_name = row['Names']\n",
    "\n",
    "            # Convert SMILES to RDKit molecule object\n",
    "            mol = Chem.MolFromSmiles(smiles)\n",
    "\n",
    "            if mol is not None:\n",
    "                # Write the molecule to PDB file\n",
    "                write_to_pdb(mol, os.path.join(output_dir, drug_name))\n",
    "            else:\n",
    "                print(f\"Invalid SMILES for drug: {drug_name}\")\n",
    "\n",
    "except FileNotFoundError:\n",
    "    print(f\"Error: The file {csv_file} was not found.\")\n",
    "except csv.Error as e:\n",
    "    print(f\"Error reading CSV file: {e}\")\n",
    "except Exception as e:\n",
    "    print(f\"An unexpected error occurred: {e}\")"
   ]
  }
 ],
 "metadata": {
  "kernelspec": {
   "display_name": "Python 3 (ipykernel)",
   "language": "python",
   "name": "python3"
  },
  "language_info": {
   "codemirror_mode": {
    "name": "ipython",
    "version": 3
   },
   "file_extension": ".py",
   "mimetype": "text/x-python",
   "name": "python",
   "nbconvert_exporter": "python",
   "pygments_lexer": "ipython3",
   "version": "3.12.4"
  }
 },
 "nbformat": 4,
 "nbformat_minor": 5
}
